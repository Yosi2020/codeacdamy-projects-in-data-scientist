{
  "nbformat": 4,
  "nbformat_minor": 0,
  "metadata": {
    "colab": {
      "name": "us-medical codeacda.ipynb",
      "provenance": []
    },
    "kernelspec": {
      "name": "python3",
      "display_name": "Python 3"
    },
    "language_info": {
      "name": "python"
    }
  },
  "cells": [
    {
      "cell_type": "markdown",
      "source": [
        "# U.S Medical Insurance Costs"
      ],
      "metadata": {
        "id": "_iLaHvgOT1Em"
      }
    },
    {
      "cell_type": "markdown",
      "source": [
        "## **Overview**\n",
        "\n",
        "This U.S cost of medical insurance can be dependes on a person's age, sex, body mass index (IBM), the number of children they have, where they are from and whether or not they smoke"
      ],
      "metadata": {
        "id": "GxWfB0FOT-1b"
      }
    },
    {
      "cell_type": "markdown",
      "source": [
        "## **Scope**\n",
        "\n",
        "Here, I will be using Python3 fundamentals to analyze the dataset containing medical insurance data to determine how various factors can impact the cost of medical insurance. And test my pervious python learning course until now    "
      ],
      "metadata": {
        "id": "GhB936EYUjSA"
      }
    },
    {
      "cell_type": "code",
      "source": [
        "# importing cvs file\n",
        "import csv "
      ],
      "metadata": {
        "id": "nfk-UUPQT7jF"
      },
      "execution_count": 1,
      "outputs": []
    },
    {
      "cell_type": "markdown",
      "source": [
        "here this importing csv file is important to read insurance.csv dataset "
      ],
      "metadata": {
        "id": "D8x59p4KW1DW"
      }
    },
    {
      "cell_type": "code",
      "source": [
        "with open('/content/drive/MyDrive/python-portfolio-example-solution/insurance.csv') as insurance_file:\n",
        "  insurance_dataset = insurance_file.read()"
      ],
      "metadata": {
        "id": "xPMGq0LZXKas"
      },
      "execution_count": 2,
      "outputs": []
    },
    {
      "cell_type": "markdown",
      "source": [
        "This insurance.csv file contain 7 columns:\n",
        "\n",
        "*   Patient's age \n",
        "*   Patient's sex\n",
        "*   Patient's BMI\n",
        "*   Patient's number of children\n",
        "*   Patient's smoking status\n",
        "*   Patient's location\n",
        "*   Patient's medical insurance cost\n",
        "\n",
        "due to the file is stored in csv file it is difficult to manipulate and analyze. so we need to create and store into list file for each columns.\n",
        "\n"
      ],
      "metadata": {
        "id": "fSCtoWExXljb"
      }
    },
    {
      "cell_type": "code",
      "source": [
        "# Create empty lists for each column of data in csv file\n",
        "ages = []\n",
        "sexes = []\n",
        "bmis = []\n",
        "num_children = []\n",
        "smoker_status = []\n",
        "regions = []\n",
        "charges = []"
      ],
      "metadata": {
        "id": "bkYQA3VmXjAm"
      },
      "execution_count": 3,
      "outputs": []
    },
    {
      "cell_type": "code",
      "source": [
        "# sort data into lists\n",
        "with open('/content/drive/MyDrive/python-portfolio-example-solution/insurance.csv', newline = '') as insurance_file:\n",
        "    insurance_dict = csv.DictReader(insurance_file)\n",
        "    for row in insurance_dict:\n",
        "        ages.append(row['age'])\n",
        "        sexes.append(row['sex'])\n",
        "        bmis.append(row['bmi'])\n",
        "        num_children.append(row['children'])\n",
        "        smoker_status.append(row['smoker'])\n",
        "        regions.append(row['region'])\n",
        "        charges.append(row['charges'])"
      ],
      "metadata": {
        "id": "pFqpXCYpYfQC"
      },
      "execution_count": 4,
      "outputs": []
    },
    {
      "cell_type": "markdown",
      "source": [
        "see how the data is puted in our list file"
      ],
      "metadata": {
        "id": "nfGDTS4hZ2Yq"
      }
    },
    {
      "cell_type": "code",
      "source": [
        "print('Age' + str(ages[:5]))\n",
        "print('Sex' + str(sexes[:5]))\n",
        "print('BMI' + str(bmis[:5]))\n",
        "print('Number of children' + str(num_children[:5]))\n",
        "print('Smoker Status' + str(smoker_status[:5]))\n",
        "print('Regions' + str(regions[:5]))\n",
        "print('Charges' + str(charges[:5]))"
      ],
      "metadata": {
        "colab": {
          "base_uri": "https://localhost:8080/"
        },
        "id": "ORinMiIHY48x",
        "outputId": "e6608b45-e6fe-49b8-b8a9-da9244626802"
      },
      "execution_count": 8,
      "outputs": [
        {
          "output_type": "stream",
          "name": "stdout",
          "text": [
            "Age['19', '18', '28', '33', '32']\n",
            "Sex['female', 'male', 'male', 'male', 'male']\n",
            "BMI['27.9', '33.77', '33', '22.705', '28.88']\n",
            "Number of children['0', '1', '3', '0', '0']\n",
            "Smoker Status['yes', 'no', 'no', 'no', 'no']\n",
            "Regions['southwest', 'southeast', 'southeast', 'northwest', 'northwest']\n",
            "Charges['16884.924', '1725.5523', '4449.462', '21984.47061', '3866.8552']\n"
          ]
        }
      ]
    },
    {
      "cell_type": "markdown",
      "source": [
        "Check if there is no any missing data is there inthe list "
      ],
      "metadata": {
        "id": "FirHod3NZ9Aj"
      }
    },
    {
      "cell_type": "code",
      "source": [
        "#verify that each column does not have nulls and is not missing any information\n",
        "print(len(ages) == (len(sexes)) == (len(bmis)) == (len(num_children)) == (len(smoker_status)) == (len(regions)) == (len(charges)))"
      ],
      "metadata": {
        "colab": {
          "base_uri": "https://localhost:8080/"
        },
        "id": "X5mfRf92Y_0x",
        "outputId": "5599aa3c-8512-447e-ad93-832f6858147c"
      },
      "execution_count": 10,
      "outputs": [
        {
          "output_type": "stream",
          "name": "stdout",
          "text": [
            "True\n"
          ]
        }
      ]
    },
    {
      "cell_type": "markdown",
      "source": [
        "As we see all length of the data is the same so we can conclude that there is no any missing data in there"
      ],
      "metadata": {
        "id": "KFCXnEFEbDAW"
      }
    },
    {
      "cell_type": "code",
      "source": [
        "print(len(ages))"
      ],
      "metadata": {
        "colab": {
          "base_uri": "https://localhost:8080/"
        },
        "id": "b1cYOPRda8ZN",
        "outputId": "5c50951e-7f84-412a-f80d-633de9706342"
      },
      "execution_count": 11,
      "outputs": [
        {
          "output_type": "stream",
          "name": "stdout",
          "text": [
            "1338\n"
          ]
        }
      ]
    },
    {
      "cell_type": "markdown",
      "source": [
        "To understand our dataset more we will do avergae from the given data"
      ],
      "metadata": {
        "id": "aPHN9MzWbnW3"
      }
    },
    {
      "cell_type": "code",
      "source": [
        "def Calculate_average(datas):\n",
        "    total = 0\n",
        "    for x in datas:\n",
        "        total += float(x)\n",
        "    return float(total/(len(datas)))\n",
        "\n",
        "print(Calculate_average(ages))\n",
        "print(Calculate_average(bmis))\n",
        "print(Calculate_average(num_children))\n",
        "print(Calculate_average(charges))"
      ],
      "metadata": {
        "colab": {
          "base_uri": "https://localhost:8080/"
        },
        "id": "USBK62NPbP5N",
        "outputId": "44b5484f-7035-46d7-96e6-d7fe5b0fb3ac"
      },
      "execution_count": 12,
      "outputs": [
        {
          "output_type": "stream",
          "name": "stdout",
          "text": [
            "39.20702541106129\n",
            "30.663396860986538\n",
            "1.0949177877429\n",
            "13270.422265141257\n"
          ]
        }
      ]
    },
    {
      "cell_type": "markdown",
      "source": [
        "Avergae datas shows that $13270.42 dollar has charged for average age is 39,\n",
        "average bmi 30, and only one chlidren.\n",
        "\n",
        "next to this we will add sex factor into the dataset"
      ],
      "metadata": {
        "id": "KV679tJPcgal"
      }
    },
    {
      "cell_type": "code",
      "source": [
        "male_count = 0\n",
        "female_count = 0\n",
        "for sex in sexes:\n",
        "    if sex == \"male\":\n",
        "        male_count += 1\n",
        "    else:\n",
        "        female_count += 1\n",
        "\n",
        "print(\"There are {male_count} males in the dataset.\".format(male_count = male_count))\n",
        "print(\"There are {female_count} females in the dataset.\".format(female_count = female_count))"
      ],
      "metadata": {
        "colab": {
          "base_uri": "https://localhost:8080/"
        },
        "id": "0iPhSWnicezr",
        "outputId": "d366aec1-fe5c-443f-c26a-c1a62331c391"
      },
      "execution_count": 13,
      "outputs": [
        {
          "output_type": "stream",
          "name": "stdout",
          "text": [
            "There are 676 males in the dataset.\n",
            "There are 662 females in the dataset.\n"
          ]
        }
      ]
    },
    {
      "cell_type": "markdown",
      "source": [
        "from 1338 register Patient's 676 are male and the others are Female."
      ],
      "metadata": {
        "id": "Ufs9X_JWcbrB"
      }
    },
    {
      "cell_type": "code",
      "source": [
        "region_count = {}\n",
        "for region in regions:\n",
        "    if region not in region_count:\n",
        "        region_count[region] = 1\n",
        "    else:\n",
        "        region_count[region] += 1\n",
        "\n",
        "print(region_count)"
      ],
      "metadata": {
        "colab": {
          "base_uri": "https://localhost:8080/"
        },
        "id": "izNIoBSncN1O",
        "outputId": "90184a1d-0e80-4130-a04e-64508378756b"
      },
      "execution_count": 14,
      "outputs": [
        {
          "output_type": "stream",
          "name": "stdout",
          "text": [
            "{'southwest': 325, 'southeast': 364, 'northwest': 325, 'northeast': 324}\n"
          ]
        }
      ]
    },
    {
      "cell_type": "code",
      "source": [
        "smoker_count = 0\n",
        "nonsmoker_count = 0\n",
        "for data in smoker_status:\n",
        "    if data == \"yes\":\n",
        "        smoker_count += 1\n",
        "    else:\n",
        "        nonsmoker_count += 1\n",
        "\n",
        "print(\"There are {smoker_count} smokers in the dataset.\".format(smoker_count = smoker_count))\n",
        "print(\"There are {nonsmoker_count} nonsmokers in the dataset.\".format(nonsmoker_count = nonsmoker_count))"
      ],
      "metadata": {
        "colab": {
          "base_uri": "https://localhost:8080/"
        },
        "id": "QyrwouXLdX4P",
        "outputId": "db35aa73-615e-499b-f055-0575ff8056bd"
      },
      "execution_count": 15,
      "outputs": [
        {
          "output_type": "stream",
          "name": "stdout",
          "text": [
            "There are 274 smokers in the dataset.\n",
            "There are 1064 nonsmokers in the dataset.\n"
          ]
        }
      ]
    },
    {
      "cell_type": "markdown",
      "source": [
        "From 1338 Patient's 274 are smokers and the other's are not "
      ],
      "metadata": {
        "id": "Cs7VWaALdgra"
      }
    },
    {
      "cell_type": "code",
      "source": [
        "# now let's compare our data based on sex, male and female \n",
        "\n",
        "def compare_costs(cost_factor, factor1, factor2):\n",
        "    with open(\"/content/drive/MyDrive/python-portfolio-example-solution/insurance.csv\") as f:\n",
        "        file_dict = csv.DictReader(f)\n",
        "        total_factor1_charges = 0\n",
        "        factor1_count = 0\n",
        "        total_factor2_charges = 0\n",
        "        factor2_count = 0\n",
        "        for row in file_dict:\n",
        "            if row[cost_factor] == factor1:\n",
        "                total_factor1_charges += float(row['charges'])\n",
        "                factor1_count += 1\n",
        "            elif row[cost_factor] == factor2:\n",
        "                total_factor2_charges += float(row['charges'])\n",
        "                factor2_count += 1\n",
        "                \n",
        "    average_factor1_cost = round((total_factor1_charges / factor1_count), 2)\n",
        "    average_factor2_cost = round((total_factor2_charges / factor2_count), 2)\n",
        "             \n",
        "    print(\"Average insurance costs if {cost_factor} is {factor1}: ${average_factor1_cost}\"\n",
        "          .format(cost_factor = cost_factor, factor1 = factor1, average_factor1_cost = (average_factor1_cost)))\n",
        "    print(\"Average insurance costs if {cost_factor} is {factor2}: ${average_factor2_cost}\"\n",
        "          .format(cost_factor = cost_factor, factor2 = factor2, average_factor2_cost = average_factor2_cost))\n",
        "    \n",
        "    cost_difference = round(average_factor1_cost - average_factor2_cost, 2)\n",
        "                    \n",
        "    print (\"The difference in costs depending on {cost_factor} is ${cost_difference}\"\n",
        "           .format(cost_factor = cost_factor, cost_difference = cost_difference))"
      ],
      "metadata": {
        "id": "_2Zb2g0UdcJu"
      },
      "execution_count": 18,
      "outputs": []
    },
    {
      "cell_type": "code",
      "source": [
        "insurance_diff_for_sex = compare_costs('sex', 'male', 'female')"
      ],
      "metadata": {
        "colab": {
          "base_uri": "https://localhost:8080/"
        },
        "id": "h_CbKX0ed0Zp",
        "outputId": "200fed3e-b10a-475a-cb28-b33f76f67974"
      },
      "execution_count": 19,
      "outputs": [
        {
          "output_type": "stream",
          "name": "stdout",
          "text": [
            "Average insurance costs if sex is male: $13956.75\n",
            "Average insurance costs if sex is female: $12569.58\n",
            "The difference in costs depending on sex is $1387.17\n"
          ]
        }
      ]
    },
    {
      "cell_type": "markdown",
      "source": [
        "Depend on sex the average cost is $1387.17\n",
        " \n",
        "\n",
        "*   Female - avergae costs $12569.58\n",
        "\n",
        "*   Male - avergae costs- $13926.75\n",
        "\n",
        "as we see the male avergae cost is gerder than the femal cost\n",
        "\n"
      ],
      "metadata": {
        "id": "Dn8b2H0xeEiS"
      }
    },
    {
      "cell_type": "code",
      "source": [
        "insurance_diff_for_smoker_status = compare_costs('smoker', 'yes', 'no')"
      ],
      "metadata": {
        "colab": {
          "base_uri": "https://localhost:8080/"
        },
        "id": "3sGdUqSxd3mm",
        "outputId": "df19b3fc-84af-4c7d-c6db-da7fdee37710"
      },
      "execution_count": 20,
      "outputs": [
        {
          "output_type": "stream",
          "name": "stdout",
          "text": [
            "Average insurance costs if smoker is yes: $32050.23\n",
            "Average insurance costs if smoker is no: $8434.27\n",
            "The difference in costs depending on smoker is $23615.96\n"
          ]
        }
      ]
    },
    {
      "cell_type": "markdown",
      "source": [
        "Here the average cost with the effect of smoker is $23615.96 \n",
        "\n",
        "*   Smoker - 32050.23$ average cost\n",
        "\n",
        "*   Not Smoker - 8434.27$ average cost\n",
        "\n"
      ],
      "metadata": {
        "id": "jcmywzsSfDsO"
      }
    },
    {
      "cell_type": "code",
      "source": [
        "with open('/content/drive/MyDrive/python-portfolio-example-solution/insurance.csv') as insurance_file:\n",
        "    insurance_dict = csv.DictReader(insurance_file)\n",
        "    underweight_count = 0\n",
        "    healthy_count = 0\n",
        "    overweight_count = 0\n",
        "    obese_count = 0\n",
        "    \n",
        "    underweight_charges = 0\n",
        "    healthy_charges = 0\n",
        "    overweight_charges = 0\n",
        "    obese_charges = 0\n",
        "    \n",
        "    for row in insurance_dict:\n",
        "        bmi = float(row['bmi'])\n",
        "        charge = float(row['charges'])\n",
        "        if bmi < 18.5:\n",
        "            underweight_count += 1\n",
        "            underweight_charges += charge\n",
        "        elif bmi >= 18.5 and bmi < 25:\n",
        "            healthy_count += 1\n",
        "            healthy_charges += charge\n",
        "        elif bmi >= 25 and bmi < 30:\n",
        "            overweight_count += 1\n",
        "            overweight_charges += charge\n",
        "        else:\n",
        "            obese_count += 1\n",
        "            obese_charges += charge\n",
        "    \n",
        "    avg_underweight_charges = round(underweight_charges/ underweight_count, 2)\n",
        "    avg_healthy_charges = round(healthy_charges / healthy_count, 2)\n",
        "    avg_overweight_charges = round(overweight_charges / overweight_count, 2)\n",
        "    avg_obese_charges = round(obese_charges / obese_count)\n",
        "    \n",
        "print(\"The average cost for patients in the underweight range is : $\" + str(avg_underweight_charges))\n",
        "print(\"The average cost for patients in the healthy range is : $\" + str(avg_healthy_charges))\n",
        "print(\"The average cost for patients in the overweight range is : $\" + str(avg_overweight_charges))\n",
        "print(\"The average cost for patients in the obese range is : $\" + str(avg_obese_charges))\n",
        "\n",
        "print(\"The difference in average cost for obese patients versus overweight patients is: $\" + str(avg_obese_charges - avg_overweight_charges))"
      ],
      "metadata": {
        "colab": {
          "base_uri": "https://localhost:8080/"
        },
        "id": "4mfh2s5bfCi7",
        "outputId": "674b3d84-4a7b-4111-b8b8-5c192e872207"
      },
      "execution_count": 21,
      "outputs": [
        {
          "output_type": "stream",
          "name": "stdout",
          "text": [
            "The average cost for patients in the underweight range is : $8852.2\n",
            "The average cost for patients in the healthy range is : $10409.34\n",
            "The average cost for patients in the overweight range is : $10987.51\n",
            "The average cost for patients in the obese range is : $15552\n",
            "The difference in average cost for obese patients versus overweight patients is: $4564.49\n"
          ]
        }
      ]
    },
    {
      "cell_type": "markdown",
      "source": [
        "From our analysis above, we can see that patients in the obese range pay $4565.49 than patients in the overweight range."
      ],
      "metadata": {
        "id": "Myi0ExWKhPRX"
      }
    },
    {
      "cell_type": "code",
      "source": [
        ""
      ],
      "metadata": {
        "id": "7lj99x3uhIBE"
      },
      "execution_count": null,
      "outputs": []
    }
  ]
}